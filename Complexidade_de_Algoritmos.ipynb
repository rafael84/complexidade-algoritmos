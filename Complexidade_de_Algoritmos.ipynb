{
  "nbformat": 4,
  "nbformat_minor": 0,
  "metadata": {
    "colab": {
      "name": "Complexidade de Algoritmos",
      "provenance": [],
      "collapsed_sections": [
        "I8WjLXm-NwJ-",
        "3yroQdYzN3UK"
      ],
      "toc_visible": true,
      "authorship_tag": "ABX9TyN6GB+bWpCplZAUKFYauA40",
      "include_colab_link": true
    },
    "kernelspec": {
      "name": "python3",
      "display_name": "Python 3"
    }
  },
  "cells": [
    {
      "cell_type": "markdown",
      "metadata": {
        "id": "view-in-github",
        "colab_type": "text"
      },
      "source": [
        "<a href=\"https://colab.research.google.com/github/rafael84/complexidade-algoritmos/blob/master/Complexidade_de_Algoritmos.ipynb\" target=\"_parent\"><img src=\"https://colab.research.google.com/assets/colab-badge.svg\" alt=\"Open In Colab\"/></a>"
      ]
    },
    {
      "cell_type": "markdown",
      "metadata": {
        "id": "QeAovegiJXC2",
        "colab_type": "text"
      },
      "source": [
        "# Complexidade de Algoritmos\n",
        "\n",
        "É um conceito muito importante para analisarmos a eficiência dos nossos programas.\n"
      ]
    },
    {
      "cell_type": "markdown",
      "metadata": {
        "id": "SsuOvQhXNlBQ",
        "colab_type": "text"
      },
      "source": [
        "Vou explicar o que a gente precisa saber em duas partes.\n",
        "\n",
        "* Nesta **primeira parte** vou abordar uma noção intuitiva sobre a complexidade;\n",
        "* Na **segunda parte** eu vou passar uma notação matemática que nós utilizamos para expressá-la."
      ]
    },
    {
      "cell_type": "markdown",
      "metadata": {
        "id": "2gErSq0ffS3C",
        "colab_type": "text"
      },
      "source": [
        "# PARTE I: NOTAÇÃO INTUITIVA"
      ]
    },
    {
      "cell_type": "markdown",
      "metadata": {
        "id": "I8WjLXm-NwJ-",
        "colab_type": "text"
      },
      "source": [
        "## 1. Recursos Computacionais\n",
        "\n",
        "Nossos programas exigem dois tipos de recursos do nosso computador:\n",
        "\n",
        "* O primeiro deles é o **processamento**, que é a capacidade de realizar cálculos do computador;\n",
        "* O segundo recurso é a capacidade de armazenamento em **memória** do computador\n",
        "\n",
        "Com estas noções bem claras, vamos tentar calcular de uma maneira bem grosseira, bem aproximada, a quantidade de recursos demandados pelo nosso programa. \n",
        "\n",
        "Utilizamos o termo \"complexidade\" para nos referirmos exatamente a essa quantidade de recursos requeridos."
      ]
    },
    {
      "cell_type": "markdown",
      "metadata": {
        "id": "3yroQdYzN3UK",
        "colab_type": "text"
      },
      "source": [
        "## 2. Programa vs Algoritmo\n",
        "\n",
        "Até este momento utilizamos de uma maneira bem informal o termo **\"programa\"**. \n",
        "\n",
        "Programa é basicamente tudo aquilo que nós temos escrito em uma determinada linguagem de programação para ser executado por um computador.\n",
        "\n",
        "Porém, **\"programa\"** e **\"algoritmo\"** não são a mesma coisa.\n",
        "\n",
        "Por isso, a partir de agora eu vou utilizar o termo **algoritmo**, por ser mais adequado ao assunto que estamos estudando."
      ]
    },
    {
      "cell_type": "markdown",
      "metadata": {
        "id": "Rq_tc8MDN-4i",
        "colab_type": "text"
      },
      "source": [
        "## 3. Analisando a Complexidade\n",
        "\n",
        "Vamos analisar um exemplo de um algoritmo aqui bem simples e curto:"
      ]
    },
    {
      "cell_type": "code",
      "metadata": {
        "id": "2_HaUuZ6KCYB",
        "colab_type": "code",
        "colab": {
          "base_uri": "https://localhost:8080/",
          "height": 34
        },
        "outputId": "672f7bca-4e62-4399-bc3e-e1bda92b50a2"
      },
      "source": [
        "def inverter_lista(lista):\n",
        "  tamanho = len(lista)\n",
        "  limite = tamanho//2\n",
        "  for i in range(limite):\n",
        "    aux = lista[i]\n",
        "    lista[i] = lista[tamanho-i-1]\n",
        "    lista[tamanho-i-1] = aux\n",
        "\n",
        "inteiros = [1, 2, 3, 4, 5, 6, 7, 8, 9]\n",
        "inverter_lista(inteiros)\n",
        "print(inteiros)"
      ],
      "execution_count": null,
      "outputs": [
        {
          "output_type": "stream",
          "text": [
            "[9, 8, 7, 6, 5, 4, 3, 2, 1]\n"
          ],
          "name": "stdout"
        }
      ]
    },
    {
      "cell_type": "markdown",
      "metadata": {
        "id": "-gG3aCoTOonj",
        "colab_type": "text"
      },
      "source": [
        "**Observações:**\n",
        "* Não nos importa que tipo de lista estamos lidando neste momento: string, inteiros, etc.\n",
        "* Também não nos importa saber de onde vem estes elementos: um arquivo, do usuário, internet, etc.\n",
        "\n",
        "Estes são aspectos específicos do programa que implementa este algoritmo."
      ]
    },
    {
      "cell_type": "markdown",
      "metadata": {
        "id": "oyMGULnxQM_v",
        "colab_type": "text"
      },
      "source": [
        "## 3.1. Calculando a mémoria exigida\n",
        "\n",
        "Vamos observar as variáveis utilizadas pelo algoritmo.\n",
        "\n",
        "Na função `inverter_lista` temos `5` variáveis:\n",
        "* `lista`\n",
        "* `tamanho`\n",
        "* `limite`\n",
        "* `i`\n",
        "* `aux`\n",
        "\n",
        "Sendo que `lista` é uma variável que, possivelmente, armazena diversos valores internamente. Logo, `lista` possui `n` elementos.\n",
        "\n",
        "Podemos então definir que a **quantidade de memória** exigida por `inverter_lista` é:\n",
        "\n",
        "* `= 4 + tamanho`\n",
        "* `= 4 + n`"
      ]
    },
    {
      "cell_type": "markdown",
      "metadata": {
        "id": "5mUmRCpPS35L",
        "colab_type": "text"
      },
      "source": [
        "## 3.2. Calculando a quantidade de processamento\n",
        "\n",
        "Fazemos uma **conta aproximada**, considerando as *operações elementares* do algoritmo.\n",
        "\n",
        "Uma **operação elementar**:\n",
        "* Número de passos constante;\n",
        "* Não esconde um outro algoritmo.\n",
        "\n",
        "Na instrução `lista[i] = lista[tamanho-i-1]` temos pelo menos `3` passos:\n",
        "* `tamanho-i-1` é uma subtração;\n",
        "* `lista[tamanho-i-1]` recupera um valor em memória;\n",
        "* `lista[i] = ...` faz uma atribuição do valor calculado.\n",
        "\n",
        "Repare que, independente do tamanho da lista, esta linha de código sempre será executada um número fixo de passos.\n",
        "\n",
        "Podemos considerar esta linha como uma única operação elementar.\n",
        "\n",
        "Calculando as operações elementares em `inverter_lista`:\n",
        "\n",
        "* `= 2 + 4 * limite`\n",
        "* `= 2 + 4 * (tamanho / 2)`\n",
        "* `= 2 + 4 * (n / 2)`\n",
        "* `= 2 + 2n`"
      ]
    },
    {
      "cell_type": "markdown",
      "metadata": {
        "id": "Tik5brKJY5qk",
        "colab_type": "text"
      },
      "source": [
        "## 3.3. Formalizando os tipos de complexidade de algoritmos\n",
        "\n",
        "* Para quantidade de **memória** exigida, chamamos de **Complexidade de Espaço**.\n",
        "* Para a quantidade de **processamento** necessário para execução, chamamos de **Complexidade de Tempo**.\n",
        "\n",
        "Quando não for especificado o tipo de complexidade, devemos assumir que estamos falando da **complexidade de tempo**.\n",
        "\n",
        "Repare que no algoritmo `inverter_lista` ambos os cálculos de complexidade dependem do tamanho da entrada do algoritmo, `lista`. \n",
        "\n",
        "Ao tamanho da entrada normalmente associamos `n`."
      ]
    },
    {
      "cell_type": "markdown",
      "metadata": {
        "id": "ekQUoslZcoIC",
        "colab_type": "text"
      },
      "source": [
        "## 3.4. Classificando a complexidade de tempo\n",
        "\n",
        "Vimos que o algoritmo `inverter_lista` possui complexidade de tempo `2n + 2`.\n",
        "\n",
        "Esta complexidade é **linear**, porque esta é uma função de primeiro grau:"
      ]
    },
    {
      "cell_type": "code",
      "metadata": {
        "id": "RRpigRM6fYgq",
        "colab_type": "code",
        "colab": {
          "base_uri": "https://localhost:8080/",
          "height": 610
        },
        "outputId": "b6f37547-d24f-4bc0-d8f4-8d3fcf677791"
      },
      "source": [
        "%matplotlib inline\n",
        "\n",
        "import numpy as np\n",
        "import matplotlib.pyplot as plt\n",
        "\n",
        "plt.rcParams['figure.figsize'] = [20, 10]\n",
        "\n",
        "n = np.linspace(0, 100)\n",
        "plt.xlim(0, 100)\n",
        "plt.ylim(0, 100)\n",
        "plt.xlabel(\"tamanho da lista\")\n",
        "plt.ylabel(\"quantidade de operações\")\n",
        "plt.grid(True)\n",
        "plt.plot(n, 2*n + 2, color=\"blue\")\n",
        "plt.show()"
      ],
      "execution_count": 2,
      "outputs": [
        {
          "output_type": "display_data",
          "data": {
            "image/png": "[encoded data removed]",
            "text/plain": [
              "<Figure size 1440x720 with 1 Axes>"
            ]
          },
          "metadata": {
            "tags": [],
            "needs_background": "light"
          }
        }
      ]
    },
    {
      "cell_type": "markdown",
      "metadata": {
        "id": "_NDYqpsLjKrk",
        "colab_type": "text"
      },
      "source": [
        "Vamos ver um algoritmo alternativo, que inverte a lista com uma outra estratégia:"
      ]
    },
    {
      "cell_type": "code",
      "metadata": {
        "id": "MaPP3xLxjRk1",
        "colab_type": "code",
        "colab": {
          "base_uri": "https://localhost:8080/",
          "height": 34
        },
        "outputId": "0df807b5-c347-4789-ffd7-b22c663d9d69"
      },
      "source": [
        "def inverter_lista2(lista):\n",
        "  nova_lista = []\n",
        "  tamanho = len(lista)\n",
        "  for i in range(tamanho):\n",
        "    nova_lista.append(lista[tamanho-i-1])\n",
        "  return nova_lista\n",
        "\n",
        "inteiros = [1, 2, 3, 4, 5, 6, 7, 8, 9]\n",
        "inteiros_invertidos = inverter_lista2(inteiros)\n",
        "print(inteiros_invertidos)"
      ],
      "execution_count": null,
      "outputs": [
        {
          "output_type": "stream",
          "text": [
            "[9, 8, 7, 6, 5, 4, 3, 2, 1]\n"
          ],
          "name": "stdout"
        }
      ]
    },
    {
      "cell_type": "markdown",
      "metadata": {
        "id": "YybT1sckjxic",
        "colab_type": "text"
      },
      "source": [
        "Neste algoritmo:\n",
        "* Complexidade de tempo: `2 + N`\n",
        "* Complexidade de espaço: `2 + 2*N`\n",
        "\n",
        "Logo, em termos de espaço, este algoritmo demanda mais recursos, mesmo com menos variáveis declaradas.\n",
        "\n",
        "Vejamos uma comparação da complexidade de tempo entre os dois algoritmos:"
      ]
    },
    {
      "cell_type": "code",
      "metadata": {
        "colab_type": "code",
        "id": "kXDcQBM-kpVY",
        "colab": {
          "base_uri": "https://localhost:8080/",
          "height": 610
        },
        "outputId": "90afdddb-84e6-46b1-8b94-92ed572081bf"
      },
      "source": [
        "%matplotlib inline\n",
        "\n",
        "import numpy as np\n",
        "import matplotlib.pyplot as plt\n",
        "\n",
        "plt.rcParams['figure.figsize'] = [20, 10]\n",
        "\n",
        "n = np.linspace(0, 100)\n",
        "plt.xlim(0, 100)\n",
        "plt.ylim(0, 100)\n",
        "plt.xlabel(\"tamanho da lista\")\n",
        "plt.ylabel(\"quantidade de operações\")\n",
        "plt.grid(True)\n",
        "plt.plot(n, 2*n + 2, color=\"blue\", label=\"inverter_lista\")\n",
        "plt.plot(n, 2+n, color=\"red\", label=\"inverter_lista2\")\n",
        "plt.legend()\n",
        "plt.show()"
      ],
      "execution_count": 3,
      "outputs": [
        {
          "output_type": "display_data",
          "data": {
            "image/png": "[encoded data removed]",
            "text/plain": [
              "<Figure size 1440x720 with 1 Axes>"
            ]
          },
          "metadata": {
            "tags": [],
            "needs_background": "light"
          }
        }
      ]
    },
    {
      "cell_type": "markdown",
      "metadata": {
        "id": "nFWldp41lrkS",
        "colab_type": "text"
      },
      "source": [
        "É possível perceber que ambas as soluções tem complexidade **linear**.\n",
        "\n",
        "Para resolver este tipo de problema, inverter uma lista, uma solução linear é a melhor que vamos conseguir, pois precisamos \"passar\" por cada elemento da lista pelo menos uma vez."
      ]
    },
    {
      "cell_type": "markdown",
      "metadata": {
        "id": "Mj2Q4Cx-mnyx",
        "colab_type": "text"
      },
      "source": [
        "# PARTE II: Notação Assintótica\n",
        "\n",
        "Para analisar se um algoritmo é **mais** ou **menos** eficiente que o outro, precisamos:\n",
        "* Analisar **como a complexidade evolui** (muda) com o tamanho da entrada.\n",
        "* A expressão de complexidade que obtemos deve ser independente da **linguagem de progração** e do **computador** onde o código é executado.\n",
        "\n",
        "O foco é o **comportamento do algoritmo**, e não o tempo exato de sua execução."
      ]
    },
    {
      "cell_type": "markdown",
      "metadata": {
        "id": "MD6HC78yrYWP",
        "colab_type": "text"
      },
      "source": [
        "Consideremos a seguinte expressão de complexidade:\n",
        "\n",
        "```\n",
        "T(n) = 2n + 2\n",
        "```\n",
        "\n",
        "* Onde `T(n)` indica que esta é uma expressão de **complexidade de tempo**.\n",
        "* A expressão tem dois termos, `2n` e `2`."
      ]
    },
    {
      "cell_type": "markdown",
      "metadata": {
        "id": "KHgTMY7xcuQp",
        "colab_type": "text"
      },
      "source": [
        "## 1. Encontrando o termo dominante\n",
        "\n",
        "Vamos analisar a importância do segundo termo, `2`.\n",
        "\n",
        "* Quando `n`, que representa a quantidade de itens na `lista` de entrada, é um número pequeno, sua relevância parece ser grande. \n",
        "\n",
        "Por exemplo, se `n` for `4`, temos:\n",
        "* `= 2n + 2`\n",
        "* `= 2*4 + 2`\n",
        "* `= 8 + 2`\n",
        "* `= 10`\n",
        "\n",
        "Neste caso, o total é `10`, portanto `2` equivale a `20%` deste valor.\n",
        "\n",
        "Porém, vejamos o que acontece se `n` for um número maior, como `1000`, por exemplo:\n",
        "* `= 2n + 2`\n",
        "* `= 2*1000 + 2`\n",
        "* `= 2000 + 2`\n",
        "* `= 2002`\n",
        "\n",
        "Neste segundo caso o total é `2002`, com `2` agora contribuindo com apenas `0.1%` deste valor.\n",
        "\n",
        "Assim, podemos descartar o `2`, ficando apenas com `2n`, que é o **termo dominante** nesta expressão."
      ]
    },
    {
      "cell_type": "markdown",
      "metadata": {
        "id": "5azyQHpcrqwy",
        "colab_type": "text"
      },
      "source": [
        "## 2. Removendo a constante multiplicativa\n",
        "\n",
        "Para chegar na notação desejada, ainda falta mais um passo: eliminar a constante que multiplica `n`.\n",
        "\n",
        "Neste caso, é o `2`. Ficamos então apenas com `n`."
      ]
    },
    {
      "cell_type": "markdown",
      "metadata": {
        "id": "ReUgswk4sXZW",
        "colab_type": "text"
      },
      "source": [
        "## 3. Notação do O grande (Big-O notation)\n",
        "\n",
        "Uma vez que temos uma expressão que é uma função de `n`, podemos agora utilizar a notação do **O grande** (Big-O).\n",
        "\n",
        "> **IMPORTANTE**: Existem outras notações além do Big-O, como little-o, Theta e Omega. Estas notações definem regras conforme os limites que são analisados. Para simplificar, aqui vamos considerar apenas Big-O, que basicamente define um limite superior (upper bound), geralmente associado com o pior caso (worst case), isto é, quando nosso algoritmo precisa executar a maior quantidade de trabalho ou passos para ser concluído.\n",
        "\n",
        "Continuando sobre a nossa expressão que representa uma função de `n`, podemos dizer que `T(n) = 2n + 2` equivale a `O(n)`.\n",
        "\n",
        "Nem todo algoritmo possui esta complexidade linear.\n",
        "Vejamos outro exemplo:"
      ]
    },
    {
      "cell_type": "code",
      "metadata": {
        "id": "b-6pMkk-3mAn",
        "colab_type": "code",
        "colab": {
          "base_uri": "https://localhost:8080/",
          "height": 51
        },
        "outputId": "9bd5e29a-6709-4c1a-bda7-08d760611f19"
      },
      "source": [
        "def tem_duplicados(lista):\n",
        "  for i in range(len(lista)-1):\n",
        "    for j in range(i+1, len(lista)):\n",
        "      if lista[i] == lista[j]:\n",
        "        return True\n",
        "  return False\n",
        "\n",
        "print(tem_duplicados(\"banana\")) # não executa todas as operações, termina antes\n",
        "print(tem_duplicados(\"python\")) # executa todas as operações"
      ],
      "execution_count": null,
      "outputs": [
        {
          "output_type": "stream",
          "text": [
            "True\n",
            "False\n"
          ],
          "name": "stdout"
        }
      ]
    },
    {
      "cell_type": "markdown",
      "metadata": {
        "id": "7l9kldpkWLz6",
        "colab_type": "text"
      },
      "source": [
        "Repare que, nos exemplos acima, a string `banana` como entrada para o algoritmo faz com que nem todas as operações sejam executadas, isto porque a string contém letras duplicadas.\n",
        "\n",
        "Já com a palavra `python`, é diferente. Apesar de ter a mesma quantidade de caracteres, esta palavra não contém letras duplicadas. Neste caso, todas as comparações precisam ser feitas.\n",
        "\n",
        "Quando analisamos a complexidade de um algoritmo, nos interessa mais saber este último cenário que reflete o máximo de operações executadas, isto é, o **pior cenário**.\n",
        "\n",
        "Para o algoritmo `tem_duplicados` temos a seguinte expressão de complexidade:\n",
        "\n",
        "```\n",
        "T(n) = n * (n-1) / 2\n",
        "T(n) = (n^2 - n) / 2\n",
        "T(n) = (n^2 - n) * 0.5\n",
        "```\n",
        "\n",
        "Observamos que o termo nominante da expressão é `n^2`, portanto podemos afirmar que:\n",
        "\n",
        "```\n",
        "T(n) = (n^2 - n) * 0.5 => O(n^2)\n",
        "```\n",
        "\n",
        "A complexidade `n^2` é demonimada **quadrática**.\n",
        "\n",
        "Vejamos a comparação com uma função linear:"
      ]
    },
    {
      "cell_type": "code",
      "metadata": {
        "id": "G7d7es_ygdDV",
        "colab_type": "code",
        "colab": {
          "base_uri": "https://localhost:8080/",
          "height": 610
        },
        "outputId": "6549f296-1e78-4a41-e4f2-813f77293b66"
      },
      "source": [
        "%matplotlib inline\n",
        "\n",
        "import numpy as np\n",
        "import matplotlib.pyplot as plt\n",
        "\n",
        "plt.rcParams['figure.figsize'] = [20, 10]\n",
        "\n",
        "n = np.linspace(0, 25)\n",
        "plt.xlim(0, 25)\n",
        "plt.ylim(0, 25)\n",
        "plt.xlabel(\"tamanho da lista\")\n",
        "plt.ylabel(\"quantidade de operações\")\n",
        "plt.grid(True)\n",
        "plt.plot(n, 2*n + 2, color=\"blue\", label=\"linear\")\n",
        "plt.plot(n, np.power(2, n), color=\"red\", label=\"quadrática\")\n",
        "plt.legend()\n",
        "plt.show()"
      ],
      "execution_count": 4,
      "outputs": [
        {
          "output_type": "display_data",
          "data": {
            "image/png": "[encoded data removed]",
            "text/plain": [
              "<Figure size 1440x720 with 1 Axes>"
            ]
          },
          "metadata": {
            "tags": [],
            "needs_background": "light"
          }
        }
      ]
    },
    {
      "cell_type": "markdown",
      "metadata": {
        "id": "tGY9JqRohO3U",
        "colab_type": "text"
      },
      "source": [
        "Fácil perceber que algoritmos complexidade quadrática são bem menos eficientes que os lineares.\n",
        "\n",
        "Ranking de complexidade:\n",
        "\n",
        "| Função   | Nome          |\n",
        "|----------|---------------|\n",
        "| 1        | constante     |\n",
        "| log n    | logarítmica   |\n",
        "| n        | linear        |\n",
        "| n log n  | linearítimica |\n",
        "| n^2      | quadrática    |\n",
        "| n^3      | cúbica        |\n",
        "| 2^       | exponencial   |\n",
        "| n!       | fatorial      |\n",
        "\n",
        "Para mais comparações, visite https://www.bigocheatsheet.com/\n",
        "\n",
        "![Big-O Complexity Chart](https://miro.medium.com/max/700/1*5ZLci3SuR0zM_QlZOADv8Q.jpeg)"
      ]
    },
    {
      "cell_type": "markdown",
      "metadata": {
        "id": "fym8Qtuej8Ib",
        "colab_type": "text"
      },
      "source": [
        "# REFERÊNCIAS"
      ]
    },
    {
      "cell_type": "markdown",
      "metadata": {
        "id": "J-sI-sNdkAet",
        "colab_type": "text"
      },
      "source": [
        "* https://www.bigocheatsheet.com/\n",
        "* https://www.youtube.com/watch?v=0oDAlMwTrLo\n",
        "* https://cathyatseneca.gitbooks.io/data-structures-and-algorithms/content/analysis/notations.html\n",
        "* https://www.youtube.com/watch?v=myZKhztFhzE\n",
        "* https://www.youtube.com/watch?v=KVlGx-9CuO4\n",
        "* https://www.youtube.com/watch?v=UQzCFkRbIrE\n",
        "* https://www.youtube.com/watch?v=uxtO9pBTnzw\n",
        "* https://pt.khanacademy.org/computing/computer-science/algorithms/asymptotic-notation/a/big-o-notation"
      ]
    }
  ]
}